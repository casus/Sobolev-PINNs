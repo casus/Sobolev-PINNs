{
 "cells": [
  {
   "cell_type": "code",
   "execution_count": 1,
   "metadata": {},
   "outputs": [],
   "source": [
    "import numpy as np\n",
    "import torch\n",
    "import scipy\n",
    "import time\n",
    "\n",
    "import sys\n",
    "sys.path.insert(1, './PSM_V1')\n",
    "from sobolev import Sobolev\n",
    "from solver import Solver\n",
    "from utils import matmul\n",
    "from diffeomorphisms import hyper_rect\n",
    "import surrogates\n",
    "import matplotlib.pyplot as plt\n",
    "sys.path.insert(1, './PINN_Dominik')\n",
    "from pinnutils import PINN\n",
    "#from pinnutils import PINNN"
   ]
  },
  {
   "cell_type": "code",
   "execution_count": 2,
   "metadata": {},
   "outputs": [],
   "source": [
    "device = torch.device('cpu' if torch.cuda.is_available() else 'cpu')\n",
    "torch.set_default_dtype(torch.float32)"
   ]
  },
  {
   "cell_type": "code",
   "execution_count": 3,
   "metadata": {},
   "outputs": [],
   "source": [
    "# Tests\n",
    "# a=-1.0, b=1.0, q=3, sob_2d(deg=30), sob_1d(deg=100), model(n=30, p=np.inf), s=[0,-1], optimizer:LBFGS"
   ]
  },
  {
   "cell_type": "markdown",
   "metadata": {},
   "source": [
    "### 2D Poisson Equation\n",
    "Let $\\Omega = (-1 , 1)^2, A, C, \\omega, \\beta \\in \\mathbb{R}$:\n",
    "$${\\large\\begin{cases}\n",
    "        \\Delta u + f = 0, (x,y) \\in \\Omega\\\\\n",
    "        u = g, (x,y) \\in \\partial \\Omega\n",
    "    \\end{cases}}$$\n",
    "with:\n",
    "$$\n",
    "    {\\large f(x,y) = 2\\lambda^2 cos(\\lambda x) sin(\\lambda y)}\\\\\n",
    "    {\\large g(x,y) = cos(\\lambda x) sin(\\lambda y)}\\\\\n",
    "    {\\large \\lambda = 2 \\pi q}\n",
    "$$"
   ]
  },
  {
   "cell_type": "code",
   "execution_count": 4,
   "metadata": {},
   "outputs": [],
   "source": [
    "rect = np.array([[-1.0, 1.0]])\n"
   ]
  },
  {
   "cell_type": "code",
   "execution_count": 5,
   "metadata": {},
   "outputs": [],
   "source": [
    "# Sobolev Cubature\n",
    "diffeo_1d = hyper_rect(rect[0])\n",
    "\n",
    "sob_1d = Sobolev(deg=100, diffeo=diffeo_1d)\n",
    "\n",
    "dx2= torch.tensor(sob_1d.diff.diffs(np.array([[2]])), dtype = torch.float32)\n",
    "dx= torch.tensor(sob_1d.diff.diffs(np.array([[1]])), dtype = torch.float32)"
   ]
  },
  {
   "cell_type": "markdown",
   "metadata": {},
   "source": [
    "### Ground Truth"
   ]
  },
  {
   "cell_type": "code",
   "execution_count": 6,
   "metadata": {},
   "outputs": [],
   "source": [
    "\n",
    "#Define ground truth\n",
    "omega = 14*np.pi\n",
    "def gt(x):\n",
    "    return torch.sin(omega*x)\n",
    "#RHS\n",
    "def f(x):\n",
    "    return -(omega/2*torch.sin(2*omega*x)+omega**2*torch.sin(omega*x))"
   ]
  },
  {
   "cell_type": "markdown",
   "metadata": {},
   "source": [
    "### Gradient Flow"
   ]
  },
  {
   "cell_type": "code",
   "execution_count": 7,
   "metadata": {},
   "outputs": [],
   "source": [
    "# |--------------------------------------------|\n",
    "# |  Operator  |          Formulation          |  \n",
    "# |------------|-------------------------------|\n",
    "# | id         |  L2 grad of L2                | \n",
    "# | m_inv      |  L2 grad of Sob               |\n",
    "# | weak m_inv |  L2 grad of weak Sob          |\n",
    "# | m          |  L2 grad of negative Sob      |\n",
    "# | weak m     |  L2 grad of weak negative Sob |\n",
    "# |--------------------------------------------|\n",
    "#\n",
    "# For that use:\n",
    "# -> sob.set_s(s)\n",
    "# -> sob.metric(rev=False/True, weak=False/True)"
   ]
  },
  {
   "cell_type": "code",
   "execution_count": 8,
   "metadata": {},
   "outputs": [],
   "source": [
    "# Sobolev Order\n",
    "sob_1d.set_s(0)"
   ]
  },
  {
   "cell_type": "code",
   "execution_count": 9,
   "metadata": {},
   "outputs": [
    {
     "name": "stderr",
     "output_type": "stream",
     "text": [
      "/tmp/ipykernel_81225/1748268450.py:8: UserWarning: To copy construct from a tensor, it is recommended to use sourceTensor.clone().detach() or sourceTensor.clone().detach().requires_grad_(True), rather than torch.tensor(sourceTensor).\n",
      "  u_bdl = torch.tensor(gt(Xl), dtype = torch.float32)\n",
      "/tmp/ipykernel_81225/1748268450.py:9: UserWarning: To copy construct from a tensor, it is recommended to use sourceTensor.clone().detach() or sourceTensor.clone().detach().requires_grad_(True), rather than torch.tensor(sourceTensor).\n",
      "  u_bdr = torch.tensor(gt(Xr), dtype = torch.float32)\n",
      "/tmp/ipykernel_81225/1748268450.py:10: UserWarning: To copy construct from a tensor, it is recommended to use sourceTensor.clone().detach() or sourceTensor.clone().detach().requires_grad_(True), rather than torch.tensor(sourceTensor).\n",
      "  w_1d = torch.tensor(sob_1d.get_leja_weights(), dtype = torch.float32)\n"
     ]
    }
   ],
   "source": [
    "# Data\n",
    "_, xs = sob_1d.get_xs()\n",
    "\n",
    "Xt = torch.tensor(xs[0], dtype = torch.float32, requires_grad = True).reshape(-1,1)\n",
    "Xl = torch.tensor([-1],  dtype = torch.float32, requires_grad = True)\n",
    "Xr = torch.tensor([1],  dtype = torch.float32,  requires_grad = True)\n",
    "\n",
    "u_bdl = torch.tensor(gt(Xl), dtype = torch.float32)\n",
    "u_bdr = torch.tensor(gt(Xr), dtype = torch.float32)\n",
    "w_1d = torch.tensor(sob_1d.get_leja_weights(), dtype = torch.float32)\n",
    "X_m =  torch.tensor(xs[0], dtype = torch.float32).reshape(-1,1)\n",
    "fXY = f(X_m).T[0]"
   ]
  },
  {
   "cell_type": "code",
   "execution_count": 10,
   "metadata": {},
   "outputs": [],
   "source": [
    "#Sobolev Metrics\n",
    "metric_1d = sob_1d.l2_metric()\n",
    "\n",
    "# Formulation\n",
    "K = dx2[0]\n",
    "# compute du_dtheta\n",
    "eq = lambda u: -matmul(K, u)+torch.matmul(dx,u**2/2)+fXY\n",
    "crit_pde = lambda u: sob_2d.loss(eq(u), weak=True)\n",
    "#grad_dmn = lambda u: 2*matmul(K.T, metric_2d(eq(u)))\n",
    "#grad_bndr_0 = lambda u: 2*metric_1d_0(u-u_bndr_0)\n",
    "#grad_bndr_1 = lambda u: 2*metric_1d_1(u-u_bndr_1)"
   ]
  },
  {
   "cell_type": "code",
   "execution_count": 11,
   "metadata": {},
   "outputs": [],
   "source": [
    "TD = np.concatenate([X_m.detach().numpy()], 0)\n",
    "# compute mean and std of training data\n",
    "X_mean = torch.tensor(np.mean(TD, axis=0, keepdims=True),device=device)\n",
    "X_std = torch.tensor(np.std(TD, axis=0, keepdims=True),device=device)\n",
    "seedc = 1"
   ]
  },
  {
   "cell_type": "code",
   "execution_count": 12,
   "metadata": {},
   "outputs": [],
   "source": [
    "import torch.nn as nn\n",
    "\n",
    "from torch.autograd import grad\n",
    "from torch.optim import Adam\n",
    "from torch.utils.data import DataLoader, Dataset, TensorDataset\n",
    "from torch.optim.lr_scheduler import ExponentialLR\n",
    "\n",
    "from scipy.interpolate import griddata\n",
    "from itertools import product, combinations\n",
    "\n",
    "from torch.optim.lr_scheduler import ExponentialLR, MultiStepLR\n",
    "from tqdm import tqdm_notebook as tqdm \n",
    "class sine(nn.Module):\n",
    "    def forward(self,x):\n",
    "        return torch.sin(x)\n"
   ]
  },
  {
   "cell_type": "code",
   "execution_count": 13,
   "metadata": {},
   "outputs": [],
   "source": [
    "def closure(optim):\n",
    "        optim.zero_grad()\n",
    "        loss.backward()\n",
    "        return loss"
   ]
  },
  {
   "cell_type": "code",
   "execution_count": 14,
   "metadata": {},
   "outputs": [],
   "source": [
    "lam_s = torch.max(torch.linalg.eig(dx2)[0].real)"
   ]
  },
  {
   "cell_type": "code",
   "execution_count": null,
   "metadata": {},
   "outputs": [
    {
     "name": "stdout",
     "output_type": "stream",
     "text": [
      "#parameters: 7801\n",
      "epoch 18170/30000, loss=0.2201129943, lambda=1.0000, lr=0.00010\t\t\t\t\r"
     ]
    }
   ],
   "source": [
    "%%time\n",
    "net = PINN(sizes=[1,50,50,50,50,1], mean=X_mean, std=X_std, seed=seedc, activation=sine()).to(device)\n",
    "print(\"#parameters:\", sum(p.numel() for p in net.parameters() if p.requires_grad))\n",
    "n_epochs   = 30000\n",
    "lamb  = 1\n",
    "losses_bc  = [];\n",
    "losses_reg = [];\n",
    "params = [{'params': net.parameters()}]\n",
    "milestones = [[15000,25000]]\n",
    "optimizer = torch.optim.Adam(params)\n",
    "scheduler = MultiStepLR(optimizer, milestones[0], gamma=0.1)\n",
    "start_time = time.time()\n",
    "ds = 1\n",
    "for epoch in range(n_epochs):\n",
    "    \n",
    "    optimizer.zero_grad()\n",
    "    uhat  = net(Xt).T[0]\n",
    "    #l_pde   = crit_pde(uhat)\n",
    "    l_pde = torch.sum(((eq(uhat)*w_1d)**2))\n",
    "    predxl = net(Xl).T[0]\n",
    "    predxr = net(Xr).T[0]\n",
    "    #l_bc = crit_bdxl(predxl) + crit_bdxr(predxr) + crit_bdyl(predyl) + crit_bdyr(predyr) \n",
    "    l_bc = (predxl-u_bdl)**2+(predxr-u_bdr)**2\n",
    "    \n",
    "    loss = l_pde /10 + 2*l_bc\n",
    "    losses_bc.append(l_bc.item())\n",
    "    losses_reg.append(l_pde.item())\n",
    "    \n",
    "    #loss.backward()\n",
    "    optimizer.step(\n",
    "                lambda: closure(\n",
    "                    optimizer,\n",
    "                ))\n",
    "    scheduler.step()\n",
    "    \n",
    "    print(\"epoch {}/{}, loss={:.10f}, lambda={:.4f}, lr={:,.5f}\\t\\t\\t\"\n",
    "          .format(epoch+1, n_epochs, loss.item(), lamb, optimizer.param_groups[0]['lr']), end=\"\\r\")\n",
    "        \n",
    "elapsed_time = time.time() - start_time\n",
    "print('CPU time = ',elapsed_time)"
   ]
  },
  {
   "cell_type": "code",
   "execution_count": 26,
   "metadata": {},
   "outputs": [],
   "source": [
    "X_test = torch.linspace(-1,1,100)"
   ]
  },
  {
   "cell_type": "code",
   "execution_count": 27,
   "metadata": {},
   "outputs": [
    {
     "data": {
      "text/plain": [
       "<matplotlib.legend.Legend at 0x2aab5d5be980>"
      ]
     },
     "execution_count": 27,
     "metadata": {},
     "output_type": "execute_result"
    },
    {
     "data": {
      "image/png": "[encoded data removed]",
      "text/plain": [
       "<Figure size 640x400 with 1 Axes>"
      ]
     },
     "metadata": {
      "needs_background": "light"
     },
     "output_type": "display_data"
    }
   ],
   "source": [
    "plt.figure(figsize=(8, 5), dpi=80)\n",
    "x = np.concatenate([np.array([np.linspace(-1,1,500)]).T],axis=1)\n",
    "X = torch.tensor(x, dtype=torch.float32, device=device)\n",
    "#plt.ylim(-0.12,0.12)\n",
    "plt.plot(x,np.sin(omega*x), label = 'Exact', color = 'orange')\n",
    "plt.plot(x,net(X).T[0].cpu().detach().numpy(),label = '$PINN$', color='b')\n",
    "Xp = np.linspace(-1,1,500)\n",
    "plt.ylabel('u')\n",
    "plt.xlabel('x')\n",
    "#plt.title('Ground Truth')\n",
    "plt.legend()\n",
    "#plt.savefig(folder +'Weak_sob_S1_FF.png')"
   ]
  },
  {
   "cell_type": "code",
   "execution_count": 28,
   "metadata": {},
   "outputs": [
    {
     "data": {
      "text/plain": [
       "0.0058488761994626715"
      ]
     },
     "execution_count": 28,
     "metadata": {},
     "output_type": "execute_result"
    }
   ],
   "source": [
    "np.max(abs(net(X).cpu().detach().numpy().T[0]-np.sin(omega*np.linspace(-1,1,500))))"
   ]
  },
  {
   "cell_type": "code",
   "execution_count": 29,
   "metadata": {},
   "outputs": [
    {
     "data": {
      "text/plain": [
       "0.002143575680647751"
      ]
     },
     "execution_count": 29,
     "metadata": {},
     "output_type": "execute_result"
    }
   ],
   "source": [
    "np.mean(abs(net(X).cpu().detach().numpy().T[0]-np.sin(omega*np.linspace(-1,1,500))))"
   ]
  },
  {
   "cell_type": "code",
   "execution_count": null,
   "metadata": {},
   "outputs": [],
   "source": []
  }
 ],
 "metadata": {
  "kernelspec": {
   "display_name": "Python 3 (ipykernel)",
   "language": "python",
   "name": "python3"
  },
  "language_info": {
   "codemirror_mode": {
    "name": "ipython",
    "version": 3
   },
   "file_extension": ".py",
   "mimetype": "text/x-python",
   "name": "python",
   "nbconvert_exporter": "python",
   "pygments_lexer": "ipython3",
   "version": "3.10.4"
  }
 },
 "nbformat": 4,
 "nbformat_minor": 4
}
